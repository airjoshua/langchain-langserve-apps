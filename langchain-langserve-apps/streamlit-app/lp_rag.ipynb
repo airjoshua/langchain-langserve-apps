{
 "cells": [
  {
   "cell_type": "code",
   "id": "initial_id",
   "metadata": {
    "collapsed": true,
    "ExecuteTime": {
     "end_time": "2024-06-24T01:14:06.347371Z",
     "start_time": "2024-06-24T01:14:06.341962Z"
    }
   },
   "source": [
    "import os\n",
    "from io import StringIO\n",
    "from textwrap import dedent\n",
    "from typing import List\n",
    "\n",
    "import pandas as pd\n",
    "from dotenv import load_dotenv\n",
    "from langchain_core.documents import Document\n",
    "from langchain_core.prompts import ChatPromptTemplate\n",
    "from langchain_openai import OpenAIEmbeddings\n",
    "from langchain_pinecone import PineconeVectorStore\n",
    "from langchain_core.runnables import RunnableParallel, RunnablePassthrough\n",
    "from langchain.chat_models import init_chat_model\n",
    "from langchain_core.output_parsers import JsonOutputParser, StrOutputParser\n",
    "load_dotenv()\n",
    "\n",
    "from langchain_core.pydantic_v1 import BaseModel, Field\n",
    "\n",
    "os.environ[\"UNSTRUCTURED_API_KEY\"]\n"
   ],
   "outputs": [
    {
     "data": {
      "text/plain": [
       "'sPySfJ3bGk4Z9M9MC2iP9NGqmxuDMO'"
      ]
     },
     "execution_count": 187,
     "metadata": {},
     "output_type": "execute_result"
    }
   ],
   "execution_count": 187
  },
  {
   "metadata": {
    "ExecuteTime": {
     "end_time": "2024-06-24T01:26:16.353976Z",
     "start_time": "2024-06-24T01:26:16.349185Z"
    }
   },
   "cell_type": "code",
   "source": [
    "\n",
    "html_text = \"\"\"<table><thead><tr><th colspan=\"7\">BCBST MEDICAL PLANS</th></tr><tr><th></th><th colspan=\"2\">Blue Plan</th><th colspan=\"2\">Orange Plan</th><th colspan=\"2\">White Plan</th></tr></thead><tbody><tr><td></td><td>IN-NETWORK</td><td>OUT-OF- NETWORK</td><td>IN-NETWORK</td><td>OUT-OF- NETWORK</td><td colspan=\"2\">IN-NETWORK OUT-OF- NETWORK</td></tr><tr><td>Tax Advantage Account Eligibility (See page 9 for details)</td><td>Health Savings</td><td>Account</td><td colspan=\"2\">Health Savings Account</td><td colspan=\"2\">Flexible Spending Account</td></tr><tr><td rowspan=\"2\">Deductible Type</td><td colspan=\"2\">Embedded Deductible</td><td colspan=\"2\">Embedded Deductible</td><td colspan=\"2\">Embedded Deductible</td></tr><tr><td colspan=\"2\" rowspan=\"2\">(See Glossary on page 26 for definitions) $4,000/ $4,000 $8,000 $8,000 $16,000</td><td colspan=\"2\">(See Glossary on page 26 for definitions)</td><td colspan=\"2\">(See Glossary on page 26 for definitions)</td></tr><tr><td>Annual Deductible Individual / Individual in a Family</td><td>$2,000 / $3,200 $4,000</td><td>$4,000 $8,000</td><td>$1,000/ $1,000 $2,000</td><td>$2,000 $4,000</td></tr><tr><td>Family Coinsurance (after deductible)</td><td>You Pay 20% BCBST Pays 80%</td><td>You Pay 40% BCBST Pays 60%</td><td>You Pay 20% BCBST Pays 80%</td><td>You Pay 40% BCBST Pays 60%</td><td>You Pay 20% BCBST Pays 80%</td><td>You Pay 40% BCBST Pays 60%</td></tr><tr><td>Out-of-Pocket Maximum Type</td><td colspan=\"2\">Embedded Out-of-Pocket Maximum</td><td colspan=\"2\">Embedded Out-of-Pocket Maximum</td><td>Embedded Out-of-Pocket</td><td>Maximum</td></tr><tr><td rowspan=\"2\">Out-of-Pocket Maximum (Includes copays, deductible, coinsurance)</td><td></td><td></td><td></td><td></td><td></td><td></td></tr><tr><td>$7,000 $14,000</td><td>$14,000 $28,000</td><td>$4,000 $8,000</td><td>$8,000 $16,000</td><td>$2,000 $4,000</td><td>$4,000 $8,000</td></tr><tr><td>Preventive Care</td><td>BCBST pays 100%</td><td>BCBST pays 60% after deductible</td><td>BCBST pays 100%</td><td>BCBST pays 60% after deductible</td><td>BCBST pays 100%</td><td>BCBST pays 60% after deductible</td></tr><tr><td>Primary Care Office Visit</td><td>BCBST pays 80% after deductible</td><td>BCBST pays 60% after deductible</td><td>BCBST pays 80% after deductible</td><td>BCBST pays 60% after deductible</td><td>$40 Copay</td><td>BCBST pays 60% after deductible</td></tr><tr><td>Premise Health Center</td><td colspan=\"2\">$0 for a Preventive Visit $5 for a Sick Visit</td><td colspan=\"2\">$0 for a Preventive Visit $5 for a Sick Visit</td><td colspan=\"2\">$0 for a Preventive Visit $5 for a Sick Visit</td></tr><tr><td>Specialist Office Visit</td><td>BCBST pays 80% after deductible</td><td>BCBST pays 60% after deductible</td><td>BCBST pays 80% after deductible</td><td>BCBST pays 60% after deductible</td><td>$40 Copay</td><td>BCBST pays 60% after deductible</td></tr><tr><td>Urgent Care Office Visit</td><td>BCBST pays 80% after deductible</td><td>BCBST pays 60% after deductible</td><td>BCBST pays 80% after deductible</td><td>BCBST pays 60% after deductible</td><td>$75 Copay</td><td>BCBST pays 60% after deductible</td></tr><tr><td>Premise Virtual Care Visit</td><td colspan=\"2\">$0/ Deductible Waived</td><td colspan=\"2\">$0/ Deductible Waived</td><td colspan=\"2\">$0/ Deductible Waived</td></tr><tr><td>Hospital - Inpatient</td><td>BCBST pays 80% after deductible</td><td>BCBST pays 60% after deductible</td><td>BCBST pays 80% after deductible</td><td>BCBST pays 60% after deductible</td><td>BCBST pays 80% after deductible</td><td>BCBST pays 60% after deductible</td></tr><tr><td>Outpatient - Surgery</td><td>BCBST pays 80% after deductible</td><td>BCBST pays 60% after deductible</td><td>BCBST pays 80% after deductible</td><td>BCBST pays 60% after deductible</td><td>BCBST pays 80% after deductible</td><td>BCBST pays 60% after deductible</td></tr><tr><td>Emergency Room</td><td colspan=\"2\">BCBST pays 80% after deductible</td><td colspan=\"2\">BCBST pays 80% after deductible</td><td colspan=\"2\">BCBST pays 80% after deductible</td></tr></tbody></table>\n",
    "\n",
    "\"\"\"\n",
    "from IPython.core.display import HTML\n",
    "HTML(html_text)\n",
    "#table = pd.read_html(StringIO(html_text))\n",
    "#table"
   ],
   "id": "93d4c744c09a3f2e",
   "outputs": [
    {
     "data": {
      "text/plain": [
       "<IPython.core.display.HTML object>"
      ],
      "text/html": [
       "<table><thead><tr><th colspan=\"7\">BCBST MEDICAL PLANS</th></tr><tr><th></th><th colspan=\"2\">Blue Plan</th><th colspan=\"2\">Orange Plan</th><th colspan=\"2\">White Plan</th></tr></thead><tbody><tr><td></td><td>IN-NETWORK</td><td>OUT-OF- NETWORK</td><td>IN-NETWORK</td><td>OUT-OF- NETWORK</td><td colspan=\"2\">IN-NETWORK OUT-OF- NETWORK</td></tr><tr><td>Tax Advantage Account Eligibility (See page 9 for details)</td><td>Health Savings</td><td>Account</td><td colspan=\"2\">Health Savings Account</td><td colspan=\"2\">Flexible Spending Account</td></tr><tr><td rowspan=\"2\">Deductible Type</td><td colspan=\"2\">Embedded Deductible</td><td colspan=\"2\">Embedded Deductible</td><td colspan=\"2\">Embedded Deductible</td></tr><tr><td colspan=\"2\" rowspan=\"2\">(See Glossary on page 26 for definitions) $4,000/ $4,000 $8,000 $8,000 $16,000</td><td colspan=\"2\">(See Glossary on page 26 for definitions)</td><td colspan=\"2\">(See Glossary on page 26 for definitions)</td></tr><tr><td>Annual Deductible Individual / Individual in a Family</td><td>$2,000 / $3,200 $4,000</td><td>$4,000 $8,000</td><td>$1,000/ $1,000 $2,000</td><td>$2,000 $4,000</td></tr><tr><td>Family Coinsurance (after deductible)</td><td>You Pay 20% BCBST Pays 80%</td><td>You Pay 40% BCBST Pays 60%</td><td>You Pay 20% BCBST Pays 80%</td><td>You Pay 40% BCBST Pays 60%</td><td>You Pay 20% BCBST Pays 80%</td><td>You Pay 40% BCBST Pays 60%</td></tr><tr><td>Out-of-Pocket Maximum Type</td><td colspan=\"2\">Embedded Out-of-Pocket Maximum</td><td colspan=\"2\">Embedded Out-of-Pocket Maximum</td><td>Embedded Out-of-Pocket</td><td>Maximum</td></tr><tr><td rowspan=\"2\">Out-of-Pocket Maximum (Includes copays, deductible, coinsurance)</td><td></td><td></td><td></td><td></td><td></td><td></td></tr><tr><td>$7,000 $14,000</td><td>$14,000 $28,000</td><td>$4,000 $8,000</td><td>$8,000 $16,000</td><td>$2,000 $4,000</td><td>$4,000 $8,000</td></tr><tr><td>Preventive Care</td><td>BCBST pays 100%</td><td>BCBST pays 60% after deductible</td><td>BCBST pays 100%</td><td>BCBST pays 60% after deductible</td><td>BCBST pays 100%</td><td>BCBST pays 60% after deductible</td></tr><tr><td>Primary Care Office Visit</td><td>BCBST pays 80% after deductible</td><td>BCBST pays 60% after deductible</td><td>BCBST pays 80% after deductible</td><td>BCBST pays 60% after deductible</td><td>$40 Copay</td><td>BCBST pays 60% after deductible</td></tr><tr><td>Premise Health Center</td><td colspan=\"2\">$0 for a Preventive Visit $5 for a Sick Visit</td><td colspan=\"2\">$0 for a Preventive Visit $5 for a Sick Visit</td><td colspan=\"2\">$0 for a Preventive Visit $5 for a Sick Visit</td></tr><tr><td>Specialist Office Visit</td><td>BCBST pays 80% after deductible</td><td>BCBST pays 60% after deductible</td><td>BCBST pays 80% after deductible</td><td>BCBST pays 60% after deductible</td><td>$40 Copay</td><td>BCBST pays 60% after deductible</td></tr><tr><td>Urgent Care Office Visit</td><td>BCBST pays 80% after deductible</td><td>BCBST pays 60% after deductible</td><td>BCBST pays 80% after deductible</td><td>BCBST pays 60% after deductible</td><td>$75 Copay</td><td>BCBST pays 60% after deductible</td></tr><tr><td>Premise Virtual Care Visit</td><td colspan=\"2\">$0/ Deductible Waived</td><td colspan=\"2\">$0/ Deductible Waived</td><td colspan=\"2\">$0/ Deductible Waived</td></tr><tr><td>Hospital - Inpatient</td><td>BCBST pays 80% after deductible</td><td>BCBST pays 60% after deductible</td><td>BCBST pays 80% after deductible</td><td>BCBST pays 60% after deductible</td><td>BCBST pays 80% after deductible</td><td>BCBST pays 60% after deductible</td></tr><tr><td>Outpatient - Surgery</td><td>BCBST pays 80% after deductible</td><td>BCBST pays 60% after deductible</td><td>BCBST pays 80% after deductible</td><td>BCBST pays 60% after deductible</td><td>BCBST pays 80% after deductible</td><td>BCBST pays 60% after deductible</td></tr><tr><td>Emergency Room</td><td colspan=\"2\">BCBST pays 80% after deductible</td><td colspan=\"2\">BCBST pays 80% after deductible</td><td colspan=\"2\">BCBST pays 80% after deductible</td></tr></tbody></table>\n",
       "\n"
      ]
     },
     "execution_count": 195,
     "metadata": {},
     "output_type": "execute_result"
    }
   ],
   "execution_count": 195
  },
  {
   "metadata": {
    "ExecuteTime": {
     "end_time": "2024-06-24T01:11:05.228182Z",
     "start_time": "2024-06-24T01:11:04.880993Z"
    }
   },
   "cell_type": "code",
   "source": [
    "\n",
    "def get_pinecone_retriever(\n",
    "        index_name, \n",
    "        embedding,\n",
    "        k\n",
    "):\n",
    "    vectorstore = PineconeVectorStore.from_existing_index(\n",
    "        index_name=index_name, \n",
    "        embedding=embedding,\n",
    "    )\n",
    "    return vectorstore.as_retriever(search_kwargs={\"k\": k})\n",
    "\n",
    "pinecone_index = \"lp-hr-rag\"\n",
    "retriever = get_pinecone_retriever(\n",
    "    index_name=pinecone_index, \n",
    "    embedding=OpenAIEmbeddings(model=\"text-embedding-3-small\"),\n",
    "    k=10\n",
    ")"
   ],
   "id": "7216973b37ae63b7",
   "outputs": [],
   "execution_count": 183
  },
  {
   "metadata": {},
   "cell_type": "code",
   "outputs": [],
   "execution_count": null,
   "source": "",
   "id": "708aa51fc2af9a88"
  },
  {
   "metadata": {
    "ExecuteTime": {
     "end_time": "2024-06-24T01:49:57.915785Z",
     "start_time": "2024-06-24T01:49:57.882105Z"
    }
   },
   "cell_type": "code",
   "source": [
    "from enum import Enum\n",
    "from textwrap import dedent\n",
    "gpt_4o = init_chat_model(\n",
    "    model=\"gpt-4o\", \n",
    "    model_provider=\"openai\", \n",
    "    temperature=0)\n",
    "\n",
    "class Prompts(Enum):\n",
    "    rag = dedent(\"\"\"\n",
    "    Answer the question based only on the following context. Cite the sources, page numbers, and urls of the information you used.\n",
    "    \n",
    "    Context: {context}\n",
    "    \n",
    "    Question: {question}\n",
    "    \"\"\")\n",
    "\n",
    "\n",
    "# Good one\n",
    "prompt = ChatPromptTemplate.from_template(Prompts.rag.value)\n",
    "def format_docs(docs: List[Document]) -> str:\n",
    "    \"\"\"Convert Documents to a single string.:\"\"\" \n",
    "    formatted = [\n",
    "        (f\"Source: {doc.metadata['file_name'].replace('-', ' ').replace('_', ' ')}\\nURL: {doc.metadata['url']}\"\n",
    "         f\"\\nPage Number: {int(doc.metadata['page_number'])}\\nContent: {doc.page_content if doc.metadata['category'] != 'Table' else doc.metadata['text_as_html']}\")\n",
    "        for doc in docs\n",
    "    ]\n",
    "    return \"\\n\\n\" + \"\\n\\n\".join(formatted)\n",
    "\n",
    "rag_chain = (\n",
    "    {\"context\": retriever | format_docs, \n",
    "     \"question\": RunnablePassthrough()\n",
    "     }\n",
    "    | prompt\n",
    "    | gpt_4o\n",
    "    | StrOutputParser()\n",
    ")"
   ],
   "id": "bdb020cd3a3126c7",
   "outputs": [],
   "execution_count": 210
  },
  {
   "metadata": {
    "ExecuteTime": {
     "end_time": "2024-06-24T02:02:50.237253Z",
     "start_time": "2024-06-24T02:02:44.802968Z"
    }
   },
   "cell_type": "code",
   "source": [
    "question = \"Can I relocate while still at LP?\" \n",
    "response = rag_chain.invoke(question)\n",
    "print(response)"
   ],
   "id": "cf36c255d1aea885",
   "outputs": [
    {
     "name": "stderr",
     "output_type": "stream",
     "text": [
      "INFO: HTTP Request: POST https://api.openai.com/v1/embeddings \"HTTP/1.1 200 OK\"\n",
      "INFO: HTTP Request: POST https://api.openai.com/v1/chat/completions \"HTTP/1.1 200 OK\"\n"
     ]
    },
    {
     "name": "stdout",
     "output_type": "stream",
     "text": [
      "Yes, you can relocate while still at LP if you meet the eligibility criteria and receive the necessary approvals. According to the Relocation Policy, US or Canadian employees who transfer at LP’s request are eligible for relocation benefits based on the salary grade of the position they are transferring into (Source: Relocation Policy, https://lpcorp.com/, Page 1). For US employees, the relocation must involve a move where the distance between the employee’s former residence and new place of work is at least 50 miles greater than the distance between the employee’s former residence and former place of work (Source: Relocation Policy, https://lpcorp.com/, Page 1). For Canadian employees, the move must result in the employee living at least 40 km closer to the new work or business location (Source: Relocation Policy, https://lpcorp.com/, Page 1).\n",
      "\n",
      "All signed offer letters containing relocation benefits must be sent to LP’s Relocation Manager, who will then authorize the move with the Company’s Relocation Management Company (RMC) (Source: Relocation Policy, https://lpcorp.com/, Page 2). Any exceptions to the policy must be approved by the LP Relocation Manager and the SVP, Chief Human Resources and Transformation Officer or his/her designee (Source: Relocation Policy, https://lpcorp.com/, Page 2).\n"
     ]
    }
   ],
   "execution_count": 219
  },
  {
   "metadata": {
    "ExecuteTime": {
     "end_time": "2024-06-23T05:33:36.292376Z",
     "start_time": "2024-06-23T05:33:36.288817Z"
    }
   },
   "cell_type": "code",
   "source": "[doc for doc in docs if doc.metadata['category'] == \"Table\"][0].metadata[\"text_as_html\"]",
   "id": "2888ea7a4a9cf288",
   "outputs": [
    {
     "data": {
      "text/plain": [
       "'<table><tbody><tr><td>Qualifying Event</td><td>Coverage Change Allowed</td><td>Documentation Required</td></tr><tr><td>Marriage\\n @</td><td>Add or remove coverage for employee and/ or dependents, change plans or tiers</td><td>Copy of marriage certificate</td></tr><tr><td>Birth or Adoption</td><td>Add coverage for employee and/or new child</td><td>Copy of birth certificate or adoption paperwork</td></tr><tr><td>Loss or Gain of Other + Coverage</td><td>Add or remove coverage for employee and/ or affected dependent</td><td>Documentation providing proof of loss or gain of coverage with effective date</td></tr></tbody></table>'"
      ]
     },
     "execution_count": 102,
     "metadata": {},
     "output_type": "execute_result"
    }
   ],
   "execution_count": 102
  },
  {
   "metadata": {
    "ExecuteTime": {
     "end_time": "2024-06-23T05:34:04.416696Z",
     "start_time": "2024-06-23T05:34:04.412903Z"
    }
   },
   "cell_type": "code",
   "source": "[doc for doc in docs if doc.metadata['page_number'] == 8]",
   "id": "9f096966591e7668",
   "outputs": [
    {
     "data": {
      "text/plain": [
       "[Document(page_content='Medical Overview', metadata={'filetype': 'application/pdf', 'page_number': 8, 'filename': '2024-LP-Benefits-Guide---US-Salary-updated-V3.pdf', 'languages': 'eng', 'category': 'Title', 'url': 'https://lpcorp.com/', 'source': '2024-LP-Benefits-Guide---US-Salary-updated-V3'}),\n",
       " Document(page_content='Louisiana Pacific offers employees the choice of three medical plans through BCBST. See below for an overview of each plan and refer to the comparison chart on Medical Plan Comparison on page 7 to see how certain common services are covered.', metadata={'filetype': 'application/pdf', 'page_number': 8, 'parent_id': '5693ba5030365c1eac74440a5ed1742b', 'filename': '2024-LP-Benefits-Guide---US-Salary-updated-V3.pdf', 'languages': 'eng', 'category': 'NarrativeText', 'url': 'https://lpcorp.com/', 'source': '2024-LP-Benefits-Guide---US-Salary-updated-V3'}),\n",
       " Document(page_content='Blue & Orange Plan', metadata={'filetype': 'application/pdf', 'page_number': 8, 'filename': '2024-LP-Benefits-Guide---US-Salary-updated-V3.pdf', 'languages': 'eng', 'category': 'Title', 'url': 'https://lpcorp.com/', 'source': '2024-LP-Benefits-Guide---US-Salary-updated-V3'}),\n",
       " Document(page_content='Set aside pre-tax dollars in a HSA account to pay for eligible health related expenses or to save for retirement!', metadata={'filetype': 'application/pdf', 'page_number': 8, 'filename': '2024-LP-Benefits-Guide---US-Salary-updated-V3.pdf', 'languages': 'eng', 'category': 'NarrativeText', 'url': 'https://lpcorp.com/', 'source': '2024-LP-Benefits-Guide---US-Salary-updated-V3'}),\n",
       " Document(page_content='You pay nothing for in-network preventive care for you and your covered dependents.', metadata={'filetype': 'application/pdf', 'page_number': 8, 'filename': '2024-LP-Benefits-Guide---US-Salary-updated-V3.pdf', 'languages': 'eng', 'category': 'NarrativeText', 'url': 'https://lpcorp.com/', 'source': '2024-LP-Benefits-Guide---US-Salary-updated-V3'}),\n",
       " Document(page_content='Virtual Care visits through Premise are covered at no cost which is more convenient than in person primary care doctor or urgent care visit and saves you money!', metadata={'filetype': 'application/pdf', 'page_number': 8, 'filename': '2024-LP-Benefits-Guide---US-Salary-updated-V3.pdf', 'languages': 'eng', 'category': 'NarrativeText', 'url': 'https://lpcorp.com/', 'source': '2024-LP-Benefits-Guide---US-Salary-updated-V3'}),\n",
       " Document(page_content='You pay 100% for your non-preventive medical care and prescriptions until the plan’s deductible is met. You can use your HSA funds to pay these expenses.', metadata={'filetype': 'application/pdf', 'page_number': 8, 'filename': '2024-LP-Benefits-Guide---US-Salary-updated-V3.pdf', 'languages': 'eng', 'category': 'NarrativeText', 'url': 'https://lpcorp.com/', 'source': '2024-LP-Benefits-Guide---US-Salary-updated-V3'}),\n",
       " Document(page_content='It is important to note that the Orange Plan & Blue Plan have an embedded deductible. See a detailed description of what this means in the glossary on page 26.', metadata={'filetype': 'application/pdf', 'page_number': 8, 'filename': '2024-LP-Benefits-Guide---US-Salary-updated-V3.pdf', 'languages': 'eng', 'category': 'NarrativeText', 'url': 'https://lpcorp.com/', 'source': '2024-LP-Benefits-Guide---US-Salary-updated-V3'}),\n",
       " Document(page_content='After you meet the plan’s deductible, medical services and prescriptions are covered at 80%. You pay 20% of services after the deductible up to the out-of- pocket maximum, then all services are covered at 100%.', metadata={'filetype': 'application/pdf', 'page_number': 8, 'filename': '2024-LP-Benefits-Guide---US-Salary-updated-V3.pdf', 'languages': 'eng', 'category': 'NarrativeText', 'url': 'https://lpcorp.com/', 'source': '2024-LP-Benefits-Guide---US-Salary-updated-V3'}),\n",
       " Document(page_content='You', metadata={'filetype': 'application/pdf', 'page_number': 8, 'filename': '2024-LP-Benefits-Guide---US-Salary-updated-V3.pdf', 'languages': 'eng', 'category': 'Title', 'url': 'https://lpcorp.com/', 'source': '2024-LP-Benefits-Guide---US-Salary-updated-V3'}),\n",
       " Document(page_content='T', metadata={'filetype': 'application/pdf', 'page_number': 8, 'filename': '2024-LP-Benefits-Guide---US-Salary-updated-V3.pdf', 'languages': 'eng', 'category': 'Image', 'url': 'https://lpcorp.com/', 'source': '2024-LP-Benefits-Guide---US-Salary-updated-V3'}),\n",
       " Document(page_content='You will pay the full cost of any Rx until you meet the combined medical & Rx deductible. Once the deductible is met, then your prescriptions will be covered at 80%. Your Rx costs will be covered at 100% once you satisfy the combined medical & Rx out-of- pocket maximum. Please note, preventive care medication is covered at 100% your first day of coverage. Check the LP Benefits Portal for a list of covered preventive medication.', metadata={'filetype': 'application/pdf', 'page_number': 8, 'filename': '2024-LP-Benefits-Guide---US-Salary-updated-V3.pdf', 'languages': 'eng', 'category': 'NarrativeText', 'url': 'https://lpcorp.com/', 'source': '2024-LP-Benefits-Guide---US-Salary-updated-V3'}),\n",
       " Document(page_content='$0', metadata={'filetype': 'application/pdf', 'page_number': 8, 'filename': '2024-LP-Benefits-Guide---US-Salary-updated-V3.pdf', 'languages': 'eng', 'category': 'UncategorizedText', 'url': 'https://lpcorp.com/', 'source': '2024-LP-Benefits-Guide---US-Salary-updated-V3'}),\n",
       " Document(page_content='BCBST', metadata={'filetype': 'application/pdf', 'page_number': 8, 'filename': '2024-LP-Benefits-Guide---US-Salary-updated-V3.pdf', 'languages': 'eng', 'category': 'Title', 'url': 'https://lpcorp.com/', 'source': '2024-LP-Benefits-Guide---US-Salary-updated-V3'}),\n",
       " Document(page_content='White Plan', metadata={'filetype': 'application/pdf', 'page_number': 8, 'filename': '2024-LP-Benefits-Guide---US-Salary-updated-V3.pdf', 'languages': 'eng', 'category': 'Title', 'url': 'https://lpcorp.com/', 'source': '2024-LP-Benefits-Guide---US-Salary-updated-V3'}),\n",
       " Document(page_content='&', metadata={'filetype': 'application/pdf', 'page_number': 8, 'parent_id': '528b345118ea804089b57d9fa8b9f5d3', 'filename': '2024-LP-Benefits-Guide---US-Salary-updated-V3.pdf', 'languages': 'eng', 'category': 'UncategorizedText', 'url': 'https://lpcorp.com/', 'source': '2024-LP-Benefits-Guide---US-Salary-updated-V3'}),\n",
       " Document(page_content='Employees enrolled in this plan are not eligible to contribute to a HSA. You can contribute pre-taxed dollars to a FSA, which is subject to the “Use it or Lose it” rule each year.', metadata={'filetype': 'application/pdf', 'page_number': 8, 'parent_id': '528b345118ea804089b57d9fa8b9f5d3', 'filename': '2024-LP-Benefits-Guide---US-Salary-updated-V3.pdf', 'languages': 'eng', 'category': 'NarrativeText', 'url': 'https://lpcorp.com/', 'source': '2024-LP-Benefits-Guide---US-Salary-updated-V3'}),\n",
       " Document(page_content='You pay nothing for in-network preventive care for you and your covered dependents', metadata={'filetype': 'application/pdf', 'page_number': 8, 'parent_id': '528b345118ea804089b57d9fa8b9f5d3', 'filename': '2024-LP-Benefits-Guide---US-Salary-updated-V3.pdf', 'languages': 'eng', 'category': 'NarrativeText', 'url': 'https://lpcorp.com/', 'source': '2024-LP-Benefits-Guide---US-Salary-updated-V3'}),\n",
       " Document(page_content=')', metadata={'filetype': 'application/pdf', 'page_number': 8, 'filename': '2024-LP-Benefits-Guide---US-Salary-updated-V3.pdf', 'languages': 'eng', 'category': 'Image', 'url': 'https://lpcorp.com/', 'source': '2024-LP-Benefits-Guide---US-Salary-updated-V3'}),\n",
       " Document(page_content='Virtual Care visits through Premise are covered at no cost which is more convenient than in person primary care doctor or urgent care visit and saves you money!', metadata={'filetype': 'application/pdf', 'page_number': 8, 'filename': '2024-LP-Benefits-Guide---US-Salary-updated-V3.pdf', 'languages': 'eng', 'category': 'NarrativeText', 'url': 'https://lpcorp.com/', 'source': '2024-LP-Benefits-Guide---US-Salary-updated-V3'}),\n",
       " Document(page_content='You pay 100% for your non-preventive medical care until the plan’s deductible is met. Certain medical services, like primary care and specialist visits, are covered with a flat copay.', metadata={'filetype': 'application/pdf', 'page_number': 8, 'filename': '2024-LP-Benefits-Guide---US-Salary-updated-V3.pdf', 'languages': 'eng', 'category': 'NarrativeText', 'url': 'https://lpcorp.com/', 'source': '2024-LP-Benefits-Guide---US-Salary-updated-V3'}),\n",
       " Document(page_content='It is important to note that this plan has an embedded deductible. See a detailed description of what this means in the glossary on page 26.', metadata={'filetype': 'application/pdf', 'page_number': 8, 'filename': '2024-LP-Benefits-Guide---US-Salary-updated-V3.pdf', 'languages': 'eng', 'category': 'NarrativeText', 'url': 'https://lpcorp.com/', 'source': '2024-LP-Benefits-Guide---US-Salary-updated-V3'}),\n",
       " Document(page_content='$0', metadata={'filetype': 'application/pdf', 'page_number': 8, 'filename': '2024-LP-Benefits-Guide---US-Salary-updated-V3.pdf', 'languages': 'eng', 'category': 'UncategorizedText', 'url': 'https://lpcorp.com/', 'source': '2024-LP-Benefits-Guide---US-Salary-updated-V3'}),\n",
       " Document(page_content='After you meet the plan’s deductible, other medical services are covered at 80%. You pay 20% of services after the deductible up to the out-of-pocket maximum, then all services are covered at 100%.', metadata={'filetype': 'application/pdf', 'page_number': 8, 'filename': '2024-LP-Benefits-Guide---US-Salary-updated-V3.pdf', 'languages': 'eng', 'category': 'NarrativeText', 'url': 'https://lpcorp.com/', 'source': '2024-LP-Benefits-Guide---US-Salary-updated-V3'}),\n",
       " Document(page_content='You', metadata={'filetype': 'application/pdf', 'page_number': 8, 'filename': '2024-LP-Benefits-Guide---US-Salary-updated-V3.pdf', 'languages': 'eng', 'category': 'Title', 'url': 'https://lpcorp.com/', 'source': '2024-LP-Benefits-Guide---US-Salary-updated-V3'}),\n",
       " Document(page_content='BCBST', metadata={'filetype': 'application/pdf', 'page_number': 8, 'filename': '2024-LP-Benefits-Guide---US-Salary-updated-V3.pdf', 'languages': 'eng', 'category': 'Title', 'url': 'https://lpcorp.com/', 'source': '2024-LP-Benefits-Guide---US-Salary-updated-V3'}),\n",
       " Document(page_content='Starting on your first day of coverage you will have a prescription copay as described on page 7. Once you meet the combined medical and Rx out-of-pocket maximum, your Rx cost will be covered at 100%. Please note, preventive care medication is covered at 100% your first day of coverage. Check the LP Benefits Portal for a list of covered preventive medication.', metadata={'filetype': 'application/pdf', 'page_number': 8, 'parent_id': '581f2680d5cfcd6ac86fc6e56abba9fc', 'filename': '2024-LP-Benefits-Guide---US-Salary-updated-V3.pdf', 'languages': 'eng', 'category': 'NarrativeText', 'url': 'https://lpcorp.com/', 'source': '2024-LP-Benefits-Guide---US-Salary-updated-V3'}),\n",
       " Document(page_content='&', metadata={'filetype': 'application/pdf', 'page_number': 8, 'filename': '2024-LP-Benefits-Guide---US-Salary-updated-V3.pdf', 'languages': 'eng', 'category': 'Image', 'url': 'https://lpcorp.com/', 'source': '2024-LP-Benefits-Guide---US-Salary-updated-V3'}),\n",
       " Document(page_content='CONTENTS', metadata={'filetype': 'application/pdf', 'page_number': 8, 'filename': '2024-LP-Benefits-Guide---US-Salary-updated-V3.pdf', 'languages': 'eng', 'category': 'Title', 'url': 'https://lpcorp.com/', 'source': '2024-LP-Benefits-Guide---US-Salary-updated-V3'}),\n",
       " Document(page_content='ENROLL', metadata={'filetype': 'application/pdf', 'page_number': 8, 'filename': '2024-LP-Benefits-Guide---US-Salary-updated-V3.pdf', 'languages': 'eng', 'category': 'Title', 'url': 'https://lpcorp.com/', 'source': '2024-LP-Benefits-Guide---US-Salary-updated-V3'}),\n",
       " Document(page_content='(cuossaay ] (“conmacrs | 4m /27 mb', metadata={'filetype': 'application/pdf', 'page_number': 8, 'parent_id': '04cdda129b72ca108b5149f9819718ee', 'filename': '2024-LP-Benefits-Guide---US-Salary-updated-V3.pdf', 'languages': 'eng', 'category': 'NarrativeText', 'url': 'https://lpcorp.com/', 'source': '2024-LP-Benefits-Guide---US-Salary-updated-V3'}),\n",
       " Document(page_content='CONTACTS', metadata={'filetype': 'application/pdf', 'page_number': 8, 'filename': '2024-LP-Benefits-Guide---US-Salary-updated-V3.pdf', 'languages': 'eng', 'category': 'Title', 'url': 'https://lpcorp.com/', 'source': '2024-LP-Benefits-Guide---US-Salary-updated-V3'}),\n",
       " Document(page_content='GLOSSARY', metadata={'filetype': 'application/pdf', 'page_number': 8, 'filename': '2024-LP-Benefits-Guide---US-Salary-updated-V3.pdf', 'languages': 'eng', 'category': 'Title', 'url': 'https://lpcorp.com/', 'source': '2024-LP-Benefits-Guide---US-Salary-updated-V3'})]"
      ]
     },
     "execution_count": 103,
     "metadata": {},
     "output_type": "execute_result"
    }
   ],
   "execution_count": 103
  },
  {
   "metadata": {},
   "cell_type": "code",
   "outputs": [],
   "execution_count": null,
   "source": "",
   "id": "42ee62a2e7420c6d"
  },
  {
   "metadata": {
    "ExecuteTime": {
     "end_time": "2024-06-24T01:22:05.651933Z",
     "start_time": "2024-06-24T01:21:53.555707Z"
    }
   },
   "cell_type": "code",
   "source": [
    "question = \"Explain the different health plans available to salaried employees\" \n",
    "response = rag_chain.stream(question)\n",
    "\n",
    "print(response)"
   ],
   "id": "9642fadc5c7355ef",
   "outputs": [
    {
     "name": "stderr",
     "output_type": "stream",
     "text": [
      "INFO: HTTP Request: POST https://api.openai.com/v1/embeddings \"HTTP/1.1 200 OK\"\n",
      "INFO: HTTP Request: POST https://api.openai.com/v1/chat/completions \"HTTP/1.1 200 OK\"\n"
     ]
    },
    {
     "name": "stdout",
     "output_type": "stream",
     "text": [
      "Based on the provided context, salaried employees at LP Corporation have access to three different health plans under the BCBST Medical Plans: the Blue Plan, the Orange Plan, and the White Plan. Here is a detailed explanation of each plan:\n",
      "\n",
      "### Blue Plan\n",
      "- **Tax Advantage Account Eligibility**: Health Savings Account (HSA)\n",
      "- **Deductible Type**: Embedded Deductible\n",
      "- **Annual Deductible**:\n",
      "  - Individual: $4,000\n",
      "  - Family: $8,000\n",
      "- **Coinsurance (after deductible)**:\n",
      "  - In-Network: You pay 20%, BCBST pays 80%\n",
      "  - Out-of-Network: You pay 40%, BCBST pays 60%\n",
      "- **Out-of-Pocket Maximum**:\n",
      "  - Individual: $7,000\n",
      "  - Family: $14,000\n",
      "- **Preventive Care**: BCBST pays 100% in-network\n",
      "- **Primary Care Office Visit**: BCBST pays 80% after deductible in-network\n",
      "- **Specialist Office Visit**: BCBST pays 80% after deductible in-network\n",
      "- **Urgent Care Office Visit**: BCBST pays 80% after deductible in-network\n",
      "- **Premise Virtual Care Visit**: $0, deductible waived\n",
      "- **Hospital - Inpatient**: BCBST pays 80% after deductible in-network\n",
      "- **Outpatient - Surgery**: BCBST pays 80% after deductible in-network\n",
      "- **Emergency Room**: BCBST pays 80% after deductible\n",
      "\n",
      "### Orange Plan\n",
      "- **Tax Advantage Account Eligibility**: Health Savings Account (HSA)\n",
      "- **Deductible Type**: Embedded Deductible\n",
      "- **Annual Deductible**:\n",
      "  - Individual: $2,000\n",
      "  - Family: $4,000\n",
      "- **Coinsurance (after deductible)**:\n",
      "  - In-Network: You pay 20%, BCBST pays 80%\n",
      "  - Out-of-Network: You pay 40%, BCBST pays 60%\n",
      "- **Out-of-Pocket Maximum**:\n",
      "  - Individual: $4,000\n",
      "  - Family: $8,000\n",
      "- **Preventive Care**: BCBST pays 100% in-network\n",
      "- **Primary Care Office Visit**: BCBST pays 80% after deductible in-network\n",
      "- **Specialist Office Visit**: BCBST pays 80% after deductible in-network\n",
      "- **Urgent Care Office Visit**: BCBST pays 80% after deductible in-network\n",
      "- **Premise Virtual Care Visit**: $0, deductible waived\n",
      "- **Hospital - Inpatient**: BCBST pays 80% after deductible in-network\n",
      "- **Outpatient - Surgery**: BCBST pays 80% after deductible in-network\n",
      "- **Emergency Room**: BCBST pays 80% after deductible\n",
      "\n",
      "### White Plan\n",
      "- **Tax Advantage Account Eligibility**: Flexible Spending Account (FSA)\n",
      "- **Deductible Type**: Embedded Deductible\n",
      "- **Annual Deductible**:\n",
      "  - Individual: $1,000\n",
      "  - Family: $2,000\n",
      "- **Coinsurance (after deductible)**:\n",
      "  - In-Network: You pay 20%, BCBST pays 80%\n",
      "  - Out-of-Network: You pay 40%, BCBST pays 60%\n",
      "- **Out-of-Pocket Maximum**:\n",
      "  - Individual: $2,000\n",
      "  - Family: $4,000\n",
      "- **Preventive Care**: BCBST pays 100% in-network\n",
      "- **Primary Care Office Visit**: $40 copay in-network\n",
      "- **Specialist Office Visit**: $40 copay in-network\n",
      "- **Urgent Care Office Visit**: $75 copay in-network\n",
      "- **Premise Virtual Care Visit**: $0, deductible waived\n",
      "- **Hospital - Inpatient**: BCBST pays 80% after deductible in-network\n",
      "- **Outpatient - Surgery**: BCBST pays 80% after deductible in-network\n",
      "- **Emergency Room**: BCBST pays 80% after deductible\n",
      "\n",
      "These plans offer different levels of coverage, deductibles, and out-of-pocket maximums to cater to the varying needs of salaried employees.\n",
      "\n",
      "**Sources:**\n",
      "- 2024 LP Benefits Guide US Salary updated V3, Page 9, URL: https://lpcorp.com/\n",
      "- Health & Welfare Plan SPD, Page 26, URL: https://lpcorp.com/\n"
     ]
    }
   ],
   "execution_count": 191
  },
  {
   "metadata": {
    "ExecuteTime": {
     "end_time": "2024-06-23T05:15:38.389034Z",
     "start_time": "2024-06-23T05:15:38.386511Z"
    }
   },
   "cell_type": "code",
   "source": "response",
   "id": "b8d2e2def0f89091",
   "outputs": [
    {
     "data": {
      "text/plain": [
       "'The gift limit for LP employees and their immediate family members is $100. \\n\\nSource: LP Code of Conduct, Page Number: 48, URL: https://lpcorp.com/'"
      ]
     },
     "execution_count": 86,
     "metadata": {},
     "output_type": "execute_result"
    }
   ],
   "execution_count": 86
  },
  {
   "metadata": {
    "ExecuteTime": {
     "end_time": "2024-06-23T05:14:52.396127Z",
     "start_time": "2024-06-23T05:14:52.386056Z"
    }
   },
   "cell_type": "code",
   "source": "print(response['answer'])",
   "id": "ade12ee3a660ea6b",
   "outputs": [
    {
     "ename": "TypeError",
     "evalue": "string indices must be integers, not 'str'",
     "output_type": "error",
     "traceback": [
      "\u001B[0;31m---------------------------------------------------------------------------\u001B[0m",
      "\u001B[0;31mTypeError\u001B[0m                                 Traceback (most recent call last)",
      "Cell \u001B[0;32mIn[82], line 1\u001B[0m\n\u001B[0;32m----> 1\u001B[0m \u001B[38;5;28mprint\u001B[39m(\u001B[43mresponse\u001B[49m\u001B[43m[\u001B[49m\u001B[38;5;124;43m'\u001B[39;49m\u001B[38;5;124;43manswer\u001B[39;49m\u001B[38;5;124;43m'\u001B[39;49m\u001B[43m]\u001B[49m)\n",
      "\u001B[0;31mTypeError\u001B[0m: string indices must be integers, not 'str'"
     ]
    }
   ],
   "execution_count": 82
  },
  {
   "metadata": {
    "ExecuteTime": {
     "end_time": "2024-06-23T04:25:46.074260Z",
     "start_time": "2024-06-23T04:25:46.071731Z"
    }
   },
   "cell_type": "code",
   "source": "response['docs']",
   "id": "c028c8896db84d4",
   "outputs": [
    {
     "data": {
      "text/plain": [
       "[Document(page_content=\"See LP's Anti-Corruption Policy\", metadata={'category': 'NarrativeText', 'filename': 'LP-Code-of-Conduct.pdf', 'filetype': 'application/pdf', 'languages': 'eng', 'page_number': 58.0, 'source': 'LP-Code-of-Conduct', 'url': 'https://lpcorp.com/'}),\n",
       " Document(page_content='Acting in LP’s Best Interests — Employees, Directors, and Officers of LP are expected to act in the best interests of the Company. This means that you should not use your position for private gain from customers, vendors, suppliers, or contractors.', metadata={'category': 'NarrativeText', 'filename': 'LP-Code-of-Conduct.pdf', 'filetype': 'application/pdf', 'languages': 'eng', 'page_number': 44.0, 'parent_id': 'eb4791d05a3019a1330b37fb0f10e5bc', 'source': 'LP-Code-of-Conduct', 'url': 'https://lpcorp.com/'}),\n",
       " Document(page_content=\"We hope this Code has been of help to you in understanding your obligations and LP's expectations. Most of us want to do the right thing, and most of the time, it is clear what the right or wrong choice is. If you encounter a situation in which you are not sure of the right choice, take the time to think it through, and then, if you have a question or concern about whether a particular action or decision is in keeping with LP's high standards for ethical conduct, ask. When in doubt, contact the Compliance or Legal Department.\", metadata={'category': 'NarrativeText', 'filename': 'LP-Code-of-Conduct.pdf', 'filetype': 'application/pdf', 'languages': 'eng', 'page_number': 69.0, 'parent_id': '72a51b6af8b2992f1f4de9a4afa221c3', 'source': 'LP-Code-of-Conduct', 'url': 'https://lpcorp.com/'}),\n",
       " Document(page_content='See LP Gifts Policy and Anti-Corruption Policy', metadata={'category': 'NarrativeText', 'filename': 'LP-Code-of-Conduct.pdf', 'filetype': 'application/pdf', 'languages': 'eng', 'page_number': 59.0, 'parent_id': 'c95e8f606d982c7822083c8748dae82a', 'source': 'LP-Code-of-Conduct', 'url': 'https://lpcorp.com/'}),\n",
       " Document(page_content='Working Respectfully within Our Communities — LP exhibits responsible corporate citizenship through our charitable, educational, and cultural contributions and involvement in civic affairs.', metadata={'category': 'NarrativeText', 'filename': 'LP-Code-of-Conduct.pdf', 'filetype': 'application/pdf', 'languages': 'eng', 'page_number': 63.0, 'parent_id': 'd9c670673fc7c8fdb68f6ea8c20af1b6', 'source': 'LP-Code-of-Conduct', 'url': 'https://lpcorp.com/'}),\n",
       " Document(page_content='See LP Conflicts of Interest Policy', metadata={'category': 'NarrativeText', 'filename': 'LP-Code-of-Conduct.pdf', 'filetype': 'application/pdf', 'languages': 'eng', 'page_number': 46.0, 'parent_id': '9e1de2428313e46fa90a4680f1a47d2f', 'source': 'LP-Code-of-Conduct', 'url': 'https://lpcorp.com/'}),\n",
       " Document(page_content='Fair Competition — LP understands the importance of fair competition and conducts its business in compliance with all applicable fair competition laws. LP does not seek competitive information by illegal or unethical means or attempt to restrict or distort competition in any way. Actions that have either the object or the practical effect of restricting fair and free competition can carry civil, criminal, and personal liability for you and the Company. Any employee who finds that LP has information that may have been obtained illegally or unethically, such as information provided to us in violation of a confidentiality agreement, should immediately inform the Legal Department.', metadata={'category': 'NarrativeText', 'filename': 'LP-Code-of-Conduct.pdf', 'filetype': 'application/pdf', 'languages': 'eng', 'page_number': 56.0, 'parent_id': 'e70c23e67c8f2e9ab86b6640ea18f7b3', 'source': 'LP-Code-of-Conduct', 'url': 'https://lpcorp.com/'}),\n",
       " Document(page_content='See LP Insider Trading Policy', metadata={'category': 'NarrativeText', 'filename': 'LP-Code-of-Conduct.pdf', 'filetype': 'application/pdf', 'languages': 'eng', 'page_number': 51.0, 'parent_id': '65db6bbab5b528d3f3499e87e0fb91f2', 'source': 'LP-Code-of-Conduct', 'url': 'https://lpcorp.com/'}),\n",
       " Document(page_content='See LP Antitrust Compliance Employee Manual', metadata={'category': 'NarrativeText', 'filename': 'LP-Code-of-Conduct.pdf', 'filetype': 'application/pdf', 'languages': 'eng', 'page_number': 56.0, 'parent_id': 'c77a241b249b41beb11d5338a52947c0', 'source': 'LP-Code-of-Conduct', 'url': 'https://lpcorp.com/'}),\n",
       " Document(page_content='LP cares for the environment by managing the environmental footprint of our operations. LP is committed to:', metadata={'category': 'NarrativeText', 'filename': 'LP-Code-of-Conduct.pdf', 'filetype': 'application/pdf', 'languages': 'eng', 'page_number': 62.0, 'parent_id': '24469ccbd78777aeef104b349c39187e', 'source': 'LP-Code-of-Conduct', 'url': 'https://lpcorp.com/'})]"
      ]
     },
     "execution_count": 38,
     "metadata": {},
     "output_type": "execute_result"
    }
   ],
   "execution_count": 38
  },
  {
   "metadata": {
    "ExecuteTime": {
     "end_time": "2024-06-23T02:32:31.930272Z",
     "start_time": "2024-06-23T02:32:31.927578Z"
    }
   },
   "cell_type": "code",
   "source": [
    "\n",
    "\n",
    "\n",
    "class cited_answer(BaseModel):\n",
    "    \"\"\"Answer the user question based only on the given sources, and cite the sources used.\"\"\"\n",
    "\n",
    "    answer: str = Field(\n",
    "        ...,\n",
    "        description=\"The answer to the user question, which is based only on the given sources.\",\n",
    "    )\n",
    "    citations: List[int] = Field(\n",
    "        ...,\n",
    "        description=\"The url of the SPECIFIC sources which justify the answer.\",\n",
    "    )"
   ],
   "id": "8af82636387a34b0",
   "outputs": [],
   "execution_count": 181
  },
  {
   "metadata": {
    "ExecuteTime": {
     "end_time": "2024-06-23T05:11:57.070063Z",
     "start_time": "2024-06-23T05:11:57.058938Z"
    }
   },
   "cell_type": "code",
   "source": [
    "llm_with_tool = gpt_4o.bind_tools(\n",
    "    [cited_answer],\n",
    "    tool_choice=\"cited_answer\",\n",
    ")\n",
    "question = \"What is lp's mission?\"\n",
    "llm_with_tool.invoke(question)"
   ],
   "id": "95e45229e3a5343",
   "outputs": [
    {
     "ename": "NameError",
     "evalue": "name 'cited_answer' is not defined",
     "output_type": "error",
     "traceback": [
      "\u001B[0;31m---------------------------------------------------------------------------\u001B[0m",
      "\u001B[0;31mNameError\u001B[0m                                 Traceback (most recent call last)",
      "Cell \u001B[0;32mIn[79], line 2\u001B[0m\n\u001B[1;32m      1\u001B[0m llm_with_tool \u001B[38;5;241m=\u001B[39m gpt_4o\u001B[38;5;241m.\u001B[39mbind_tools(\n\u001B[0;32m----> 2\u001B[0m     [\u001B[43mcited_answer\u001B[49m],\n\u001B[1;32m      3\u001B[0m     tool_choice\u001B[38;5;241m=\u001B[39m\u001B[38;5;124m\"\u001B[39m\u001B[38;5;124mcited_answer\u001B[39m\u001B[38;5;124m\"\u001B[39m,\n\u001B[1;32m      4\u001B[0m )\n\u001B[1;32m      5\u001B[0m question \u001B[38;5;241m=\u001B[39m \u001B[38;5;124m\"\u001B[39m\u001B[38;5;124mWhat is lp\u001B[39m\u001B[38;5;124m'\u001B[39m\u001B[38;5;124ms mission?\u001B[39m\u001B[38;5;124m\"\u001B[39m\n\u001B[1;32m      6\u001B[0m llm_with_tool\u001B[38;5;241m.\u001B[39minvoke(question)\n",
      "\u001B[0;31mNameError\u001B[0m: name 'cited_answer' is not defined"
     ]
    }
   ],
   "execution_count": 79
  },
  {
   "metadata": {
    "ExecuteTime": {
     "end_time": "2024-06-23T02:28:51.793375Z",
     "start_time": "2024-06-23T02:28:51.790930Z"
    }
   },
   "cell_type": "code",
   "source": "response['answer']",
   "id": "bc6e7f9c697abe61",
   "outputs": [
    {
     "data": {
      "text/plain": [
       "'The mission of LP is to act with integrity and uphold the highest ethical standards.'"
      ]
     },
     "execution_count": 176,
     "metadata": {},
     "output_type": "execute_result"
    }
   ],
   "execution_count": 176
  },
  {
   "metadata": {
    "ExecuteTime": {
     "end_time": "2024-06-23T02:29:03.328167Z",
     "start_time": "2024-06-23T02:29:03.325620Z"
    }
   },
   "cell_type": "code",
   "source": "response",
   "id": "ac5c44a33580615b",
   "outputs": [
    {
     "data": {
      "text/plain": [
       "{'answer': 'The mission of LP is to act with integrity and uphold the highest ethical standards.',\n",
       " 'docs': [Document(page_content='While LP’s Code cannot cover every situation you will encounter, its goal is to set high ethical standards of behavior, explain our responsibilities to the company and each other, direct you to more comprehensive policies on specific requirements, and provide a confidential avenue for reporting behavior that you believe contrary to our duties and culture.', metadata={'category': 'NarrativeText', 'filename': 'LP-Code-of-Conduct.pdf', 'filetype': 'application/pdf', 'languages': 'eng', 'page_number': 5.0, 'parent_id': '4434b8c446883f4b1eba273406054a63', 'source': 'LP-Code-of-Conduct', 'url': 'some_url'}),\n",
       "  Document(page_content='Tuition Assistance Program LP encourages and supports employee self- improvement through formal education so employees can enhance their job-related skills. LP will reimburse 80% of eligible expenses paid by the employee up to the IRS max of $5,250 per year. Please refer to the policy site on insideLP for additional information regarding the Tuition Assistance Program.', metadata={'category': 'NarrativeText', 'filename': '2024-LP-Benefits-Guide---US-Salary-updated-V3.pdf', 'filetype': 'application/pdf', 'languages': 'eng', 'page_number': 26.0, 'parent_id': 'f3bdfb5e587808ac3f4ed755626d79d0', 'url': 'some_url'}),\n",
       "  Document(page_content='LP cares for the environment by managing the environmental footprint of our operations. LP is committed to:', metadata={'category': 'NarrativeText', 'filename': 'LP-Code-of-Conduct.pdf', 'filetype': 'application/pdf', 'languages': 'eng', 'page_number': 62.0, 'parent_id': '24469ccbd78777aeef104b349c39187e', 'source': 'LP-Code-of-Conduct', 'url': 'some_url'}),\n",
       "  Document(page_content='At LP Building Solutions (LP), we are proudly committed to the highest level of legal and ethical standards in conducting our business around the world.', metadata={'category': 'NarrativeText', 'filename': 'LP-Code-of-Conduct.pdf', 'filetype': 'application/pdf', 'languages': 'eng', 'page_number': 4.0, 'parent_id': 'ebc294a1c88cb08fe3b00f346de9f63c', 'source': 'LP-Code-of-Conduct', 'url': 'some_url'}),\n",
       "  Document(page_content=\"To preserve and protect our reputation, members of LP's board of directors and senior management, along with all of LP's employees and LP's vendors and agents, are expected to conduct company business accordingly. LP's Code of Business Conduct and Ethics cannot cover every situation you will encounter.\", metadata={'category': 'NarrativeText', 'filename': 'LP-Code-of-Conduct.pdf', 'filetype': 'application/pdf', 'languages': 'eng', 'page_number': 4.0, 'parent_id': 'ebc294a1c88cb08fe3b00f346de9f63c', 'source': 'LP-Code-of-Conduct', 'url': 'some_url'}),\n",
       "  Document(page_content='Cooperation — LP employees are expected to cooperate if asked to give interviews, answer questions, or provide relevant records and documents for review by the investigator(s). LP’s goal is simple: to detect and prevent misconduct by determining the facts and circumstances related to any investigation and to act in accordance with its findings.', metadata={'category': 'NarrativeText', 'filename': 'LP-Code-of-Conduct.pdf', 'filetype': 'application/pdf', 'languages': 'eng', 'page_number': 15.0, 'parent_id': '1c0365b74e3d159651a28f71c260e3fb', 'source': 'LP-Code-of-Conduct', 'url': 'some_url'}),\n",
       "  Document(page_content='Working Respectfully within Our Communities — LP exhibits responsible corporate citizenship through our charitable, educational, and cultural contributions and involvement in civic affairs.', metadata={'category': 'NarrativeText', 'filename': 'LP-Code-of-Conduct.pdf', 'filetype': 'application/pdf', 'languages': 'eng', 'page_number': 63.0, 'parent_id': 'd9c670673fc7c8fdb68f6ea8c20af1b6', 'source': 'LP-Code-of-Conduct', 'url': 'some_url'}),\n",
       "  Document(page_content=\"See LP's Anti-Corruption Policy\", metadata={'category': 'NarrativeText', 'filename': 'LP-Code-of-Conduct.pdf', 'filetype': 'application/pdf', 'languages': 'eng', 'page_number': 58.0, 'source': 'LP-Code-of-Conduct', 'url': 'some_url'}),\n",
       "  Document(page_content='CEO Letter to LP Employees and Other Stakeholders ....................................................4 LP Culture .......................................................................................................................... 6 Navigating the LP Code of Business Conduct and Ethics ............................................... 8 The Code ................................................................................................................................................. 10 Who Must Follow the Code? ................................................................................................................ 10 Responsibilities under the Code .......................................................................................................... 11 Reporting a Concern ..............................................................................................................................12 Investigating a Concern', metadata={'category': 'Table', 'filename': 'LP-Code-of-Conduct.pdf', 'filetype': 'application/pdf', 'languages': 'eng', 'page_number': 2.0, 'parent_id': 'dc462bc6ef03261066fc7c7840de30c8', 'source': 'LP-Code-of-Conduct', 'text_as_html': '<table><tbody><tr><td>CEO Letter to LP Employees and Other Stakeholders</td><td>EEEEEEEEEEEEEEEEEEEEEEEEEEEEEEEEEEESEEEEEEEEEEEEEEEE</td></tr><tr><td>R B R R R R R AR AR AN AN RN RN LP Culture</td><td>EENAREEEENEEREEEEEERREEEEEEEEE</td></tr><tr><td>e Navigating the LP Code of Business Conduct and Ethics</td><td>EmEEEEEEEEEEEEEEEEEEEEEEEEEEEEEEEEEEEEEEEEEEE</td></tr><tr><td>The Code</td><td>10</td></tr><tr><td>Who Must FOIOW the COTEY ...ttt</td><td>s 10</td></tr><tr><td>Responsibilities under the Code</td><td>\"</td></tr><tr><td>Reporting a Concern</td><td>12</td></tr><tr><td>Investigating a Concern</td><td>14</td></tr><tr><td>No Retaliation</td><td>15</td></tr><tr><td>N B AR R R R AR AR AR AN AN RN RN Our People</td><td>REEARNEEENEEREEEEEEEREEEEEEE 16</td></tr><tr><td>Promoting an Equitable Workplace</td><td>18</td></tr><tr><td>Affirmative Action</td><td>19</td></tr><tr><td>Nondiscrimination and Anti-Harassment</td><td>19</td></tr><tr><td>Disabled Persons.</td><td>20</td></tr><tr><td>Safety ..</td><td>20</td></tr><tr><td>Violence and Weapons..</td><td>22</td></tr><tr><td>Substance Abuse</td><td>23</td></tr><tr><td>Wages</td><td>24</td></tr><tr><td>Non-Solicitation</td><td>24</td></tr><tr><td>Managing Financial Records and Disclosure NN EEEEEEEEEEEEEEEEEEEEEEEEEEEEEEEEEEEEEEEEEEEEEEEEEEEEEE</td><td>26</td></tr><tr><td>Financial Accounting and Reporting ...</td><td>28</td></tr><tr><td>Business Expenses....</td><td>29</td></tr><tr><td>Corporate Funds..</td><td>29</td></tr></tbody></table>', 'url': 'some_url'}),\n",
       "  Document(page_content='• LP’s confidential reporting service', metadata={'category': 'ListItem', 'filename': 'LP-Code-of-Conduct.pdf', 'filetype': 'application/pdf', 'languages': 'eng', 'page_number': 12.0, 'parent_id': '68207d6c910087e4bbd9c7d3f368f07b', 'source': 'LP-Code-of-Conduct', 'url': 'some_url'})]}"
      ]
     },
     "execution_count": 178,
     "metadata": {},
     "output_type": "execute_result"
    }
   ],
   "execution_count": 178
  },
  {
   "metadata": {
    "ExecuteTime": {
     "end_time": "2024-06-23T01:52:53.892207Z",
     "start_time": "2024-06-23T01:52:53.889045Z"
    }
   },
   "cell_type": "code",
   "source": "response",
   "id": "a1d1e35fceb6b51e",
   "outputs": [
    {
     "data": {
      "text/plain": [
       "{'answer': 'The policy around document retention is not specified in the provided context.',\n",
       " 'docs': [Document(page_content=\"See LP's Record Retention Policy\", metadata={'category': 'NarrativeText', 'filename': 'LP-Code-of-Conduct.pdf', 'filetype': 'application/pdf', 'languages': 'eng', 'page_number': 34.0, 'parent_id': 'bb03086915d56df2d45c56a10e3d8787', 'source': 'LP-Code-of-Conduct', 'url': 'some_url'}),\n",
       "  Document(page_content='Documents and Records', metadata={'category': 'Title', 'filename': 'LP-Code-of-Conduct.pdf', 'filetype': 'application/pdf', 'languages': 'eng', 'page_number': 34.0, 'parent_id': '896c0383080c5292cd2e1793b3194b0a', 'source': 'LP-Code-of-Conduct', 'url': 'some_url'}),\n",
       "  Document(page_content='Retaining Required Records — LP is committed to effective document maintenance and records retention to protect its history, ensure that records are available to meet the Company’s business and legal needs, efficiently manage the use of space, minimize the cost of records retention, and ensure that outdated and useless records are properly disposed of.', metadata={'category': 'NarrativeText', 'filename': 'LP-Code-of-Conduct.pdf', 'filetype': 'application/pdf', 'languages': 'eng', 'page_number': 34.0, 'parent_id': 'bb03086915d56df2d45c56a10e3d8787', 'source': 'LP-Code-of-Conduct', 'url': 'some_url'}),\n",
       "  Document(page_content='Documents Related to Litigation and Legal Holds — Documents relevant to actual or threatened litigation must be appropriately retained and preserved as directed by the Legal Department. A litigation hold is a mandatory directive issued by the Legal Department to preserve certain business records until the hold directive is lifted. Even though our retention schedule may call for the destruction of a document or group of documents, a legal hold means that certain documents must be preserved until the legal hold is lifted and expires. Should you have any questions related to legal hold notices, contact a member of the Legal Department.', metadata={'category': 'NarrativeText', 'filename': 'LP-Code-of-Conduct.pdf', 'filetype': 'application/pdf', 'languages': 'eng', 'page_number': 34.0, 'parent_id': 'bb03086915d56df2d45c56a10e3d8787', 'source': 'LP-Code-of-Conduct', 'url': 'some_url'}),\n",
       "  Document(page_content=\"Creating Documents and Records — You are prohibited from ever knowingly or intentionally creating documents that contain false or misleading statements. Documents must be stored in secure locations and maintained in accordance with the Company's records retention policy.\", metadata={'category': 'NarrativeText', 'filename': 'LP-Code-of-Conduct.pdf', 'filetype': 'application/pdf', 'languages': 'eng', 'page_number': 34.0, 'parent_id': 'bb03086915d56df2d45c56a10e3d8787', 'source': 'LP-Code-of-Conduct', 'url': 'some_url'}),\n",
       "  Document(page_content='Data Protection Laws — The collection, storage, retrieval, and disclosure of employee information will be in accordance with all applicable data protection laws. If you are unsure about collecting or sharing personal/ employee data, ask LP’s Compliance or Legal Department for guidance.', metadata={'category': 'NarrativeText', 'filename': 'LP-Code-of-Conduct.pdf', 'filetype': 'application/pdf', 'languages': 'eng', 'page_number': 40.0, 'parent_id': '434c1303d470eb48cebe30c9bf1882a9', 'source': 'LP-Code-of-Conduct', 'url': 'some_url'}),\n",
       "  Document(page_content='LP respects the privacy of all its employees, business partners and consumers. We must handle personal data responsibly and in compliance with all applicable privacy laws and company policies (including our records retention requirements). Personal data is information that can directly or indirectly identify an individual, such as name, contact information, and health-related information. Employees who handle the personal data of others must:', metadata={'category': 'NarrativeText', 'filename': 'LP-Code-of-Conduct.pdf', 'filetype': 'application/pdf', 'languages': 'eng', 'page_number': 40.0, 'parent_id': 'e9e930918aa077c7800a7fdacd6d9725', 'source': 'LP-Code-of-Conduct', 'url': 'some_url'}),\n",
       "  Document(page_content='Gift Policy: FAQs', metadata={'category': 'Title', 'filename': 'LP-Code-of-Conduct.pdf', 'filetype': 'application/pdf', 'languages': 'eng', 'page_number': 47.0, 'source': 'LP-Code-of-Conduct', 'url': 'some_url'}),\n",
       "  Document(page_content='Protecting Employee Information', metadata={'category': 'Title', 'filename': 'LP-Code-of-Conduct.pdf', 'filetype': 'application/pdf', 'languages': 'eng', 'page_number': 39.0, 'parent_id': '66be91510f2be6d19fcab3b42c9786f4', 'source': 'LP-Code-of-Conduct', 'url': 'some_url'}),\n",
       "  Document(page_content='Safeguarding Company Assets and Resources .............................................................30 Technology Assets ................................................................................................................................ 32 Documents and Records ...................................................................................................................... 34 Managing Information and Knowledge ..........................................................................36 Protecting Confidential Information ................................................................................................... 38 Copyrights and Other Intellectual Property ....................................................................................... 39 Protecting Employee Information ........................................................................................................ 39 Consumer, Customer, Supplier, or Other Third Party Privacy', metadata={'category': 'Table', 'filename': 'LP-Code-of-Conduct.pdf', 'filetype': 'application/pdf', 'languages': 'eng', 'page_number': 3.0, 'source': 'LP-Code-of-Conduct', 'text_as_html': '<table><tbody><tr><td>Safeguarding Company Assets and Resources EE AR EEEEEEEEEEEEEEEEEEEEEEEEEEEEEEEEEEEESEEEEEEEEEEEEEE</td><td>30</td></tr><tr><td>Technology Assets</td><td>32</td></tr><tr><td>Documents and Records</td><td>34</td></tr><tr><td>Managing Information and Knowledge AR RN AR AN AN NN</td><td>EEEEEEEEEEEEEEEEEEEEEEEEEEEEEEEEEEEEEEE 36</td></tr><tr><td>Protecting Confidential Information</td><td>38</td></tr><tr><td>Copyrights and Other Intellectual Property</td><td>39</td></tr><tr><td>Protecting Employee Information</td><td>39</td></tr><tr><td>Consumer, Customer, Supplier, or Other Third Party Privacy</td><td>40</td></tr><tr><td>Conflicts of Interest R R R RN AN AR AN</td><td>AEEENEAEEEARENARNEEREEEREEEEEEEEEEEEEEE 42</td></tr><tr><td>Managing Potential Conflicts</td><td>44</td></tr><tr><td>Business Ethics Questionnaire</td><td>46</td></tr><tr><td>Gifts and Entertainment.</td><td>49</td></tr><tr><td>Insider Trading ...</td><td>49</td></tr><tr><td>Working with External Partners</td><td>52</td></tr><tr><td>Transparent Communication</td><td>54</td></tr><tr><td>Cooperation with Government Agencies</td><td>54</td></tr><tr><td>Fair Competition and Antitrust</td><td>54</td></tr><tr><td>Gathering Competitive Information</td><td>56</td></tr><tr><td>International Business Conduct: Bribery and Corruption</td><td>57</td></tr><tr><td>Export/Import Control or Trade Compliance..</td><td>58</td></tr><tr><td>Political Activity</td><td>59</td></tr><tr><td>Charitable Contributions</td><td>59</td></tr><tr><td>Our Environment, Our Neighbors, and Our Products J R</td><td>60</td></tr><tr><td>Environmental Stewardship</td><td>62</td></tr><tr><td>Good Neighbor Commitment</td><td>63</td></tr><tr><td>Product Quality</td><td>64</td></tr><tr><td>External Communication</td><td>66</td></tr><tr><td>Social Media</td><td>68</td></tr><tr><td>Conclusion N B AR R R R AR AR AR AN AN RN RN</td><td>REEARNEEENEEREEEEEEEREEEEEEE 69</td></tr></tbody></table>', 'url': 'some_url'})]}"
      ]
     },
     "execution_count": 170,
     "metadata": {},
     "output_type": "execute_result"
    }
   ],
   "execution_count": 170
  },
  {
   "metadata": {
    "ExecuteTime": {
     "end_time": "2024-06-22T21:58:02.631038Z",
     "start_time": "2024-06-22T21:58:02.628323Z"
    }
   },
   "cell_type": "code",
   "source": "response['context'][0].metadata",
   "id": "76022dde88ff35b4",
   "outputs": [
    {
     "data": {
      "text/plain": [
       "{'category': 'NarrativeText',\n",
       " 'filename': 'LP-Code-of-Conduct.pdf',\n",
       " 'filetype': 'application/pdf',\n",
       " 'languages': 'eng',\n",
       " 'page_number': 5.0,\n",
       " 'parent_id': '4434b8c446883f4b1eba273406054a63',\n",
       " 'source': 'LP-Code-of-Conduct',\n",
       " 'url': 'some_url'}"
      ]
     },
     "execution_count": 120,
     "metadata": {},
     "output_type": "execute_result"
    }
   ],
   "execution_count": 120
  },
  {
   "metadata": {
    "ExecuteTime": {
     "end_time": "2024-06-22T21:58:17.333488Z",
     "start_time": "2024-06-22T21:58:17.331449Z"
    }
   },
   "cell_type": "code",
   "source": "print(response['answer'].content)",
   "id": "a6ee435fa6d11a4",
   "outputs": [
    {
     "name": "stdout",
     "output_type": "stream",
     "text": [
      "LP's values include high ethical standards, mutual respect and trust, safety and health, responsible corporate citizenship, and environmental care.\n"
     ]
    }
   ],
   "execution_count": 122
  },
  {
   "metadata": {
    "ExecuteTime": {
     "end_time": "2024-06-22T19:23:03.165846Z",
     "start_time": "2024-06-22T19:23:03.163605Z"
    }
   },
   "cell_type": "code",
   "source": "",
   "id": "75d9a1a305650b7e",
   "outputs": [
    {
     "data": {
      "text/plain": [
       "'lp-hr'"
      ]
     },
     "execution_count": 401,
     "metadata": {},
     "output_type": "execute_result"
    }
   ],
   "execution_count": 401
  },
  {
   "metadata": {
    "ExecuteTime": {
     "end_time": "2024-06-22T06:28:12.538875Z",
     "start_time": "2024-06-22T06:28:12.531183Z"
    }
   },
   "cell_type": "code",
   "source": "[document.metadata['text_as_html'] if document.metadata['category'] == \"Table\" else document for document in documents]",
   "id": "707be46926405969",
   "outputs": [
    {
     "ename": "KeyError",
     "evalue": "'text_as_html'",
     "output_type": "error",
     "traceback": [
      "\u001B[0;31m---------------------------------------------------------------------------\u001B[0m",
      "\u001B[0;31mKeyError\u001B[0m                                  Traceback (most recent call last)",
      "Cell \u001B[0;32mIn[354], line 1\u001B[0m\n\u001B[0;32m----> 1\u001B[0m [\u001B[43mdocument\u001B[49m\u001B[38;5;241;43m.\u001B[39;49m\u001B[43mmetadata\u001B[49m\u001B[43m[\u001B[49m\u001B[38;5;124;43m'\u001B[39;49m\u001B[38;5;124;43mtext_as_html\u001B[39;49m\u001B[38;5;124;43m'\u001B[39;49m\u001B[43m]\u001B[49m \u001B[38;5;28;01mif\u001B[39;00m document\u001B[38;5;241m.\u001B[39mmetadata[\u001B[38;5;124m'\u001B[39m\u001B[38;5;124mcategory\u001B[39m\u001B[38;5;124m'\u001B[39m] \u001B[38;5;241m==\u001B[39m \u001B[38;5;124m\"\u001B[39m\u001B[38;5;124mTable\u001B[39m\u001B[38;5;124m\"\u001B[39m \u001B[38;5;28;01melse\u001B[39;00m document \u001B[38;5;28;01mfor\u001B[39;00m document \u001B[38;5;129;01min\u001B[39;00m documents]\n",
      "\u001B[0;31mKeyError\u001B[0m: 'text_as_html'"
     ]
    }
   ],
   "execution_count": 354
  },
  {
   "metadata": {
    "ExecuteTime": {
     "end_time": "2024-06-22T06:18:07.800565Z",
     "start_time": "2024-06-22T06:18:07.798325Z"
    }
   },
   "cell_type": "code",
   "source": [
    "\n",
    "[split.page_content for split in  all_splits[:10]][6]"
   ],
   "id": "fa5a0a59d199c",
   "outputs": [
    {
     "data": {
      "text/plain": [
       "'Individual in a Family</td><td colspan=\"2\"></td><td>$2,000 / $3,200 $4,000</td><td>$4,000 $8,000</td><td>$1,000/ $1,000 $2,000</td><td>$2,000 $4,000</td></tr><tr><td>Family Coinsurance (after deductible)</td><td>You Pay 20% BCBST Pays 80%</td><td>You Pay 40% BCBST Pays 60%</td><td>You Pay 20% BCBST Pays 80%</td><td>You Pay 40% BCBST Pays 60%</td><td>You Pay 20% BCBST Pays 80%</td><td>You Pay 40% BCBST Pays 60%</td></tr><tr><td>Out-of-Pocket Maximum Type</td><td colspan=\"2\">Embedded Out-of-Pocket Maximum</td><td colspan=\"2\">Embedded Out-of-Pocket Maximum</td><td>Embedded Out-of-Pocket</td><td>Maximum</td></tr><tr><td rowspan=\"2\">Out-of-Pocket Maximum (Includes copays, deductible, coinsurance)</td><td></td><td></td><td></td><td></td><td></td><td></td></tr><tr><td></td><td>$7,000 $14,000</td><td>$14,000 $28,000</td><td>$4,000 $8,000</td><td>$8,000 $16,000</td><td>$2,000 $4,000</td><td>$4,000 $8,000</td></tr><tr><td>Preventive Care</td><td>BCBST pays 100%</td><td>BCBST pays 60% after'"
      ]
     },
     "execution_count": 347,
     "metadata": {},
     "output_type": "execute_result"
    }
   ],
   "execution_count": 347
  },
  {
   "metadata": {
    "ExecuteTime": {
     "end_time": "2024-06-22T06:18:36.870798Z",
     "start_time": "2024-06-22T06:18:36.868370Z"
    }
   },
   "cell_type": "code",
   "source": "[split.metadata['text_as_html'] for split in  all_splits[:10]][6]",
   "id": "779e2150a4888788",
   "outputs": [
    {
     "data": {
      "text/plain": [
       "'<table><thead><th colspan=\"7\">BCBST MEDICAL PLANS</th></thead><thead><th></th><th colspan=\"2\">Blue Plan</th><th colspan=\"2\">Orange Plan</th><th colspan=\"2\">White Plan</th></thead><tr><td></td><td>IN-NETWORK</td><td>OUT-OF- NETWORK</td><td>IN-NETWORK</td><td>OUT-OF- NETWORK</td><td colspan=\"2\">IN-NETWORK OUT-OF- NETWORK</td></tr><tr><td>Tax Advantage Account Eligibility (See page 9 for details)</td><td>Health Savings</td><td>Account</td><td colspan=\"2\">Health Savings Account</td><td colspan=\"2\">Flexible Spending Account</td></tr><tr><td rowspan=\"2\">Deductible Type</td><td colspan=\"2\">Embedded Deductible</td><td colspan=\"2\">Embedded Deductible</td><td colspan=\"2\">Embedded Deductible</td></tr><tr><td></td><td colspan=\"2\" rowspan=\"2\">(See Glossary on page 26 for definitions) $4,000/ $4,000 $8,000 $8,000 $16,000</td><td colspan=\"2\">(See Glossary on page 26 for definitions)</td><td colspan=\"2\">(See Glossary on page 26 for definitions)</td></tr><tr><td>Annual Deductible Individual / Individual in a Family</td><td colspan=\"2\"></td><td>$2,000 / $3,200 $4,000</td><td>$4,000 $8,000</td><td>$1,000/ $1,000 $2,000</td><td>$2,000 $4,000</td></tr><tr><td>Family Coinsurance (after deductible)</td><td>You Pay 20% BCBST Pays 80%</td><td>You Pay 40% BCBST Pays 60%</td><td>You Pay 20% BCBST Pays 80%</td><td>You Pay 40% BCBST Pays 60%</td><td>You Pay 20% BCBST Pays 80%</td><td>You Pay 40% BCBST Pays 60%</td></tr><tr><td>Out-of-Pocket Maximum Type</td><td colspan=\"2\">Embedded Out-of-Pocket Maximum</td><td colspan=\"2\">Embedded Out-of-Pocket Maximum</td><td>Embedded Out-of-Pocket</td><td>Maximum</td></tr><tr><td rowspan=\"2\">Out-of-Pocket Maximum (Includes copays, deductible, coinsurance)</td><td></td><td></td><td></td><td></td><td></td><td></td></tr><tr><td></td><td>$7,000 $14,000</td><td>$14,000 $28,000</td><td>$4,000 $8,000</td><td>$8,000 $16,000</td><td>$2,000 $4,000</td><td>$4,000 $8,000</td></tr><tr><td>Preventive Care</td><td>BCBST pays 100%</td><td>BCBST pays 60% after deductible</td><td>BCBST pays 100%</td><td>BCBST pays 60% after deductible</td><td>BCBST pays 100%</td><td>BCBST pays 60% after deductible</td></tr><tr><td>Primary Care Office Visit</td><td>BCBST pays 80% after deductible</td><td>BCBST pays 60% after deductible</td><td>BCBST pays 80% after deductible</td><td>BCBST pays 60% after deductible</td><td>$40 Copay</td><td>BCBST pays 60% after deductible</td></tr><tr><td>Premise Health Center</td><td colspan=\"2\">$0 for a Preventive Visit $5 for a Sick Visit</td><td colspan=\"2\">$0 for a Preventive Visit $5 for a Sick Visit</td><td colspan=\"2\">$0 for a Preventive Visit $5 for a Sick Visit</td></tr><tr><td>Specialist Office Visit</td><td>BCBST pays 80% after deductible</td><td>BCBST pays 60% after deductible</td><td>BCBST pays 80% after deductible</td><td>BCBST pays 60% after deductible</td><td>$40 Copay</td><td>BCBST pays 60% after deductible</td></tr><tr><td>Urgent Care Office Visit</td><td>BCBST pays 80% after deductible</td><td>BCBST pays 60% after deductible</td><td>BCBST pays 80% after deductible</td><td>BCBST pays 60% after deductible</td><td>$75 Copay</td><td>BCBST pays 60% after deductible</td></tr><tr><td>Premise Virtual Care Visit</td><td colspan=\"2\">$0/ Deductible Waived</td><td colspan=\"2\">$0/ Deductible Waived</td><td colspan=\"2\">$0/ Deductible Waived</td></tr><tr><td>Hospital - Inpatient</td><td>BCBST pays 80% after deductible</td><td>BCBST pays 60% after deductible</td><td>BCBST pays 80% after deductible</td><td>BCBST pays 60% after deductible</td><td>BCBST pays 80% after deductible</td><td>BCBST pays 60% after deductible</td></tr><tr><td>Outpatient - Surgery</td><td>BCBST pays 80% after deductible</td><td>BCBST pays 60% after deductible</td><td>BCBST pays 80% after deductible</td><td>BCBST pays 60% after deductible</td><td>BCBST pays 80% after deductible</td><td>BCBST pays 60% after deductible</td></tr><tr><td>Emergency Room</td><td colspan=\"2\">BCBST pays 80% after deductible</td><td colspan=\"2\">BCBST pays 80% after deductible</td><td colspan=\"2\">BCBST pays 80% after deductible</td></tr></table>'"
      ]
     },
     "execution_count": 349,
     "metadata": {},
     "output_type": "execute_result"
    }
   ],
   "execution_count": 349
  },
  {
   "metadata": {
    "ExecuteTime": {
     "end_time": "2024-06-22T06:08:25.554303Z",
     "start_time": "2024-06-22T06:08:25.551947Z"
    }
   },
   "cell_type": "code",
   "source": "[split.metadata['text_as_html'][:10] for split in  all_splits[:10]]",
   "id": "1a9fb9f4703590a8",
   "outputs": [
    {
     "data": {
      "text/plain": [
       "['<table><tr',\n",
       " '<table><tr',\n",
       " '<table><tr',\n",
       " '<table><th',\n",
       " '<table><th',\n",
       " '<table><th',\n",
       " '<table><th',\n",
       " '<table><th',\n",
       " '<table><th',\n",
       " '<table><th']"
      ]
     },
     "execution_count": 328,
     "metadata": {},
     "output_type": "execute_result"
    }
   ],
   "execution_count": 328
  },
  {
   "metadata": {
    "ExecuteTime": {
     "end_time": "2024-06-22T19:02:05.725920Z",
     "start_time": "2024-06-22T19:02:05.723304Z"
    }
   },
   "cell_type": "code",
   "source": "[split.page_content for split in all_splits if split.metadata['page_number'] == 3]",
   "id": "8c4a42be9acd0658",
   "outputs": [
    {
     "data": {
      "text/plain": [
       "['Employees You are eligible for benefits on the 1st of the month following date of hire (or date of hire if hired on the 1st of the month), if you work at least 20 hours per week. You must enroll within 31 days of your hire date or date of eligibility. If you miss this deadline, you will need to wait until the next Open Enrollment period (which usually takes place in the fall) unless you experience a Qualifying Life Event during the year (as explained to the right).',\n",
       " 'Dependents You are also allowed to enroll eligible dependents in some of the LP plans. Documentation is required for any eligible dependent covered under LP health plans such as a marriage license or birth certificate. Eligibility depends on what benefits you are enrolling in. Eligible dependents include:',\n",
       " '· Your legal spouse;',\n",
       " '· Your child under age 26 (regardless of financial dependency, residency with you, marital status, or student status), or if older, your unmarried child who is principally supported by you and who is not capable of self-support due to a physical or mental disability that either began while the child was covered under the plan or occurred before age 26.',\n",
       " 'RRR',\n",
       " 'When Do Benefits End? If you leave employment with Louisiana Pacific, your medical, dental, vision and FSA benefits will end on the last day of the pay period. After your termination, you are responsible for maintaining the administration fee of your HSA. Your life and disability insurance will end on your date of termination.',\n",
       " 'When Can You Make Changes to Benefits? Generally, changes are only allowed under the following circumstances:',\n",
       " 'Annual Open Enrollment Period Once per year, we conduct an annual Open Enrollment (usually in the fall). During this time, you can add or drop benefit plans and add or remove dependents from your coverage for the coming plan year.',\n",
       " 'Qualifying Life Events (QLEs) Outside of Open Enrollment, you may change your benefit elections only if you experience a Qualifying Life Event. Below are examples of life events that allow you to make a change.',\n",
       " 'Qualifying Event Coverage Change Allowed Documentation Required Marriage Birth or Adoption Add or remove coverage for employee and/ or dependents, change plans or tiers Add coverage for employee and/or new child Copy of marriage certificate Copy of birth certificate or adoption paperwork Loss or Gain of Other Coverage Add or remove coverage for employee and/ or affected dependent Documentation providing proof of loss or gain of coverage with effective date',\n",
       " 'Any change must be requested within 31 days of a Qualifying Life Event by submitting a request in the LP Benefits Portal at https://LPBenefits.lpcorp.com.',\n",
       " '(cuossany ] (“conmacts ] 4m 1727 mb']"
      ]
     },
     "execution_count": 388,
     "metadata": {},
     "output_type": "execute_result"
    }
   ],
   "execution_count": 388
  },
  {
   "metadata": {
    "ExecuteTime": {
     "end_time": "2024-06-22T06:12:55.785825Z",
     "start_time": "2024-06-22T06:12:55.776777Z"
    }
   },
   "cell_type": "code",
   "source": "[split.page_content for split in all_splits if split.category == \"Table\"]",
   "id": "37167d9e5ec2d790",
   "outputs": [
    {
     "ename": "AttributeError",
     "evalue": "'Document' object has no attribute 'category'",
     "output_type": "error",
     "traceback": [
      "\u001B[0;31m---------------------------------------------------------------------------\u001B[0m",
      "\u001B[0;31mAttributeError\u001B[0m                            Traceback (most recent call last)",
      "Cell \u001B[0;32mIn[329], line 1\u001B[0m\n\u001B[0;32m----> 1\u001B[0m [split\u001B[38;5;241m.\u001B[39mpage_content \u001B[38;5;28;01mfor\u001B[39;00m split \u001B[38;5;129;01min\u001B[39;00m all_splits \u001B[38;5;28;01mif\u001B[39;00m \u001B[43msplit\u001B[49m\u001B[38;5;241;43m.\u001B[39;49m\u001B[43mcategory\u001B[49m \u001B[38;5;241m==\u001B[39m \u001B[38;5;124m\"\u001B[39m\u001B[38;5;124mTable\u001B[39m\u001B[38;5;124m\"\u001B[39m]\n",
      "\u001B[0;31mAttributeError\u001B[0m: 'Document' object has no attribute 'category'"
     ]
    }
   ],
   "execution_count": 329
  },
  {
   "metadata": {
    "ExecuteTime": {
     "end_time": "2024-06-22T17:44:35.031152Z",
     "start_time": "2024-06-22T17:44:35.029125Z"
    }
   },
   "cell_type": "code",
   "source": [
    "from langchain_core.prompts import ChatPromptTemplate\n",
    "\n",
    "template = \"\"\"Answer the question based only on the following context:\n",
    "{context}\n",
    "Question: {question}\n",
    "\"\"\"\n",
    "prompt = ChatPromptTemplate.from_template(template)\n"
   ],
   "id": "fd9da9d382b5b54d",
   "outputs": [],
   "execution_count": 372
  },
  {
   "metadata": {
    "ExecuteTime": {
     "end_time": "2024-06-22T17:44:37.366810Z",
     "start_time": "2024-06-22T17:44:36.082370Z"
    }
   },
   "cell_type": "code",
   "source": [
    "\n",
    "\n",
    "retriever = vectorstore.as_retriever(search_type=\"similarity\", search_kwargs={\"k\": 10})\n",
    "\n",
    "rag_chain = (\n",
    "    {\"context\": docsearch | format_docs, \n",
    "     \"question\": RunnablePassthrough()\n",
    "     }\n",
    "    | prompt\n",
    "    | gpt_4o\n",
    "    | StrOutputParser()\n",
    ")\n",
    "\n",
    "\n",
    "question = \"When am I eligible for benefits?\"\n",
    "rag_chain.invoke(question)"
   ],
   "id": "c0f724a41afe7fa7",
   "outputs": [
    {
     "name": "stderr",
     "output_type": "stream",
     "text": [
      "INFO: HTTP Request: POST https://api.openai.com/v1/embeddings \"HTTP/1.1 200 OK\"\n",
      "INFO: HTTP Request: POST https://api.openai.com/v1/chat/completions \"HTTP/1.1 200 OK\"\n"
     ]
    },
    {
     "data": {
      "text/plain": [
       "'The provided context does not contain specific information about eligibility criteria for benefits. Therefore, I cannot determine when you are eligible for benefits based on the given text.'"
      ]
     },
     "execution_count": 373,
     "metadata": {},
     "output_type": "execute_result"
    }
   ],
   "execution_count": 373
  },
  {
   "metadata": {
    "ExecuteTime": {
     "end_time": "2024-06-22T18:58:45.151345Z",
     "start_time": "2024-06-22T18:58:43.233200Z"
    }
   },
   "cell_type": "code",
   "source": [
    "\n",
    "rag_chain_from_docs = (\n",
    "    RunnablePassthrough.assign(context=(lambda x: format_docs(x[\"context\"])))\n",
    "    | prompt\n",
    "    | gpt_4o\n",
    "    | StrOutputParser()\n",
    ")\n",
    "\n",
    "rag_chain_with_source = RunnableParallel(\n",
    "    {\"context\": retriever, \"question\": RunnablePassthrough()}).assign(answer=rag_chain_from_docs)\n",
    "\n",
    "question = \"When can I enroll in benefits??\"\n",
    "rag_chain_with_source.invoke(question)"
   ],
   "id": "36a61dfe61435c64",
   "outputs": [
    {
     "name": "stderr",
     "output_type": "stream",
     "text": [
      "INFO: HTTP Request: POST https://api.openai.com/v1/embeddings \"HTTP/1.1 200 OK\"\n",
      "INFO: HTTP Request: POST https://api.openai.com/v1/chat/completions \"HTTP/1.1 200 OK\"\n"
     ]
    },
    {
     "data": {
      "text/plain": [
       "{'context': [Document(page_content='When Do Benefits End?', metadata={'filename': '2024-LP-Benefits-Guide---US-Salary-updated-V3.pdf', 'filetype': 'application/pdf', 'page_number': 3}),\n",
       "  Document(page_content='When Do Benefits End?', metadata={'filename': '2024-LP-Benefits-Guide---US-Salary-updated-V3.pdf', 'filetype': 'application/pdf', 'page_number': 3}),\n",
       "  Document(page_content='When Do Benefits End?', metadata={'category': 'Title', 'filename': '2024-LP-Benefits-Guide---US-Salary-updated-V3.pdf', 'filetype': 'application/pdf', 'languages': 'eng', 'page_number': 3, 'url': 'some_url'}),\n",
       "  Document(page_content='When Do Benefits End?', metadata={'category': 'Title', 'filename': '2024-LP-Benefits-Guide---US-Salary-updated-V3.pdf', 'filetype': 'application/pdf', 'languages': 'eng', 'page_number': 3, 'url': 'some_url'}),\n",
       "  Document(page_content='When Do Benefits End?', metadata={'filename': '2024-LP-Benefits-Guide---US-Salary-updated-V3.pdf', 'filetype': 'application/pdf', 'page_number': 3}),\n",
       "  Document(page_content='When Do Benefits End?', metadata={'filename': '2024-LP-Benefits-Guide---US-Salary-updated-V3.pdf', 'filetype': 'application/pdf', 'languages': 'eng', 'page_number': 3}),\n",
       "  Document(page_content='Employees You are eligible for benefits on the 1st of the month following date of hire (or date of hire if hired on the 1st of the month), if you work at least 20 hours per week. You must enroll within 31 days of your hire date or date of eligibility. If you miss this deadline, you will need to wait until the next Open Enrollment period (which usually takes place in the fall) unless you experience a Qualifying Life Event during the year (as explained to the right).', metadata={'filename': '2024-LP-Benefits-Guide---US-Salary-updated-V3.pdf', 'filetype': 'application/pdf', 'page_number': 3, 'parent_id': '61e383b2243dcbe913e42e0c65c00492'}),\n",
       "  Document(page_content='Employees You are eligible for benefits on the 1st of the month following date of hire (or date of hire if hired on the 1st of the month), if you work at least 20 hours per week. You must enroll within 31 days of your hire date or date of eligibility. If you miss this deadline, you will need to wait until the next Open Enrollment period (which usually takes place in the fall) unless you experience a Qualifying Life Event during the year (as explained to the right).', metadata={'filename': '2024-LP-Benefits-Guide---US-Salary-updated-V3.pdf', 'filetype': 'application/pdf', 'languages': 'eng', 'page_number': 3, 'parent_id': '61e383b2243dcbe913e42e0c65c00492'}),\n",
       "  Document(page_content='Employees You are eligible for benefits on the 1st of the month following date of hire (or date of hire if hired on the 1st of the month), if you work at least 20 hours per week. You must enroll within 31 days of your hire date or date of eligibility. If you miss this deadline, you will need to wait until the next Open Enrollment period (which usually takes place in the fall) unless you experience a Qualifying Life Event during the year (as explained to the right).', metadata={'category': 'NarrativeText', 'filename': '2024-LP-Benefits-Guide---US-Salary-updated-V3.pdf', 'filetype': 'application/pdf', 'languages': 'eng', 'page_number': 3, 'parent_id': '61e383b2243dcbe913e42e0c65c00492', 'url': 'some_url'}),\n",
       "  Document(page_content='Employees You are eligible for benefits on the 1st of the month following date of hire (or date of hire if hired on the 1st of the month), if you work at least 20 hours per week. You must enroll within 31 days of your hire date or date of eligibility. If you miss this deadline, you will need to wait until the next Open Enrollment period (which usually takes place in the fall) unless you experience a Qualifying Life Event during the year (as explained to the right).', metadata={'category': 'NarrativeText', 'filename': '2024-LP-Benefits-Guide---US-Salary-updated-V3.pdf', 'filetype': 'application/pdf', 'languages': 'eng', 'page_number': 3, 'parent_id': '61e383b2243dcbe913e42e0c65c00492', 'url': 'some_url'})],\n",
       " 'question': 'When can I enroll in benefits??',\n",
       " 'answer': 'You can enroll in benefits on the 1st of the month following your date of hire (or on your date of hire if you are hired on the 1st of the month), provided you work at least 20 hours per week. You must enroll within 31 days of your hire date or date of eligibility. If you miss this deadline, you will need to wait until the next Open Enrollment period, unless you experience a Qualifying Life Event during the year.'}"
      ]
     },
     "execution_count": 378,
     "metadata": {},
     "output_type": "execute_result"
    }
   ],
   "execution_count": 378
  },
  {
   "metadata": {
    "ExecuteTime": {
     "end_time": "2024-06-22T04:03:52.495758Z",
     "start_time": "2024-06-22T04:03:52.493504Z"
    }
   },
   "cell_type": "code",
   "source": "elements[0].metadata.to_dict().pop('languages', None)",
   "id": "9717de976b3032b7",
   "outputs": [
    {
     "data": {
      "text/plain": [
       "['eng']"
      ]
     },
     "execution_count": 177,
     "metadata": {},
     "output_type": "execute_result"
    }
   ],
   "execution_count": 177
  },
  {
   "metadata": {
    "ExecuteTime": {
     "end_time": "2024-06-22T19:01:45.378708Z",
     "start_time": "2024-06-22T19:01:45.370699Z"
    }
   },
   "cell_type": "code",
   "source": [
    "[element.metadata['page_number'] for element in elements \n",
    " #if element.metadata.to_dict()['page_number'] == 3\n",
    " ]"
   ],
   "id": "41ec1df4a9e05de9",
   "outputs": [
    {
     "ename": "TypeError",
     "evalue": "'ElementMetadata' object is not subscriptable",
     "output_type": "error",
     "traceback": [
      "\u001B[0;31m---------------------------------------------------------------------------\u001B[0m",
      "\u001B[0;31mTypeError\u001B[0m                                 Traceback (most recent call last)",
      "Cell \u001B[0;32mIn[387], line 1\u001B[0m\n\u001B[0;32m----> 1\u001B[0m [\u001B[43melement\u001B[49m\u001B[38;5;241;43m.\u001B[39;49m\u001B[43mmetadata\u001B[49m\u001B[43m[\u001B[49m\u001B[38;5;124;43m'\u001B[39;49m\u001B[38;5;124;43mpage_number\u001B[39;49m\u001B[38;5;124;43m'\u001B[39;49m\u001B[43m]\u001B[49m \u001B[38;5;28;01mfor\u001B[39;00m element \u001B[38;5;129;01min\u001B[39;00m elements \n\u001B[1;32m      2\u001B[0m  \u001B[38;5;66;03m#if element.metadata.to_dict()['page_number'] == 3\u001B[39;00m\n\u001B[1;32m      3\u001B[0m  ]\n",
      "\u001B[0;31mTypeError\u001B[0m: 'ElementMetadata' object is not subscriptable"
     ]
    }
   ],
   "execution_count": 387
  },
  {
   "metadata": {
    "ExecuteTime": {
     "end_time": "2024-06-22T05:02:31.381474Z",
     "start_time": "2024-06-22T05:02:31.379147Z"
    }
   },
   "cell_type": "code",
   "source": [
    "set(element.category for element in elements \n",
    " #if element.category == \"Table\"\n",
    " )"
   ],
   "id": "1d551dd9b615f6c5",
   "outputs": [
    {
     "data": {
      "text/plain": [
       "{'FigureCaption',\n",
       " 'Image',\n",
       " 'ListItem',\n",
       " 'NarrativeText',\n",
       " 'PageBreak',\n",
       " 'Table',\n",
       " 'Title',\n",
       " 'UncategorizedText'}"
      ]
     },
     "execution_count": 240,
     "metadata": {},
     "output_type": "execute_result"
    }
   ],
   "execution_count": 240
  },
  {
   "metadata": {
    "ExecuteTime": {
     "end_time": "2024-06-22T06:14:20.691877Z",
     "start_time": "2024-06-22T06:14:20.690099Z"
    }
   },
   "cell_type": "code",
   "source": "table_elements = [element for element in elements if element.category == \"Table\"]",
   "id": "9c59d275e6b654c3",
   "outputs": [],
   "execution_count": 336
  },
  {
   "metadata": {
    "ExecuteTime": {
     "end_time": "2024-06-22T06:15:28.002162Z",
     "start_time": "2024-06-22T06:15:27.999808Z"
    }
   },
   "cell_type": "code",
   "source": [
    "[element.metadata.text_as_html\n",
    "    #element.text\n",
    " for element in elements if element.category == \"Table\"][0]"
   ],
   "id": "ca2445c7e93cce8c",
   "outputs": [
    {
     "data": {
      "text/plain": [
       "'<table><tr><td>Qualifying Event</td><td>Coverage Change Allowed</td><td>Documentation Required</td></tr><tr><td>Marriage\\n @</td><td>Add or remove coverage for employee and/ or dependents, change plans or tiers</td><td>Copy of marriage certificate</td></tr><tr><td>Birth or ) Adoption</td><td>Add coverage for employee and/or new child</td><td>Copy of birth certificate or adoption paperwork</td></tr><tr><td>Loss or Gain of Other + Coverage</td><td>Add or remove coverage for employee and/ or affected dependent</td><td>Documentation providing proof of loss or gain of coverage with effective date</td></tr></table>'"
      ]
     },
     "execution_count": 341,
     "metadata": {},
     "output_type": "execute_result"
    }
   ],
   "execution_count": 341
  },
  {
   "metadata": {
    "ExecuteTime": {
     "end_time": "2024-06-22T06:15:41.899455Z",
     "start_time": "2024-06-22T06:15:41.897055Z"
    }
   },
   "cell_type": "code",
   "source": [
    "[element.text\n",
    " for element in elements if element.category == \"Table\"][0]"
   ],
   "id": "151dc55a7cc081dc",
   "outputs": [
    {
     "data": {
      "text/plain": [
       "'Qualifying Event Coverage Change Allowed Documentation Required Marriage Birth or Adoption Add or remove coverage for employee and/ or dependents, change plans or tiers Add coverage for employee and/or new child Copy of marriage certificate Copy of birth certificate or adoption paperwork Loss or Gain of Other Coverage Add or remove coverage for employee and/ or affected dependent Documentation providing proof of loss or gain of coverage with effective date'"
      ]
     },
     "execution_count": 342,
     "metadata": {},
     "output_type": "execute_result"
    }
   ],
   "execution_count": 342
  },
  {
   "metadata": {
    "ExecuteTime": {
     "end_time": "2024-06-22T06:14:31.073474Z",
     "start_time": "2024-06-22T06:14:31.071023Z"
    }
   },
   "cell_type": "code",
   "source": "table_elements[]",
   "id": "964809f478dc248f",
   "outputs": [
    {
     "data": {
      "text/plain": [
       "[<unstructured.documents.elements.Table at 0x141803bc0>,\n",
       " <unstructured.documents.elements.Table at 0x141801cd0>,\n",
       " <unstructured.documents.elements.Table at 0x1448f2ed0>,\n",
       " <unstructured.documents.elements.Table at 0x1448f3f20>,\n",
       " <unstructured.documents.elements.Table at 0x1448f1760>,\n",
       " <unstructured.documents.elements.Table at 0x1395b0e90>,\n",
       " <unstructured.documents.elements.Table at 0x140578a10>,\n",
       " <unstructured.documents.elements.Table at 0x140578c20>,\n",
       " <unstructured.documents.elements.Table at 0x140579790>,\n",
       " <unstructured.documents.elements.Table at 0x148b9d3a0>,\n",
       " <unstructured.documents.elements.Table at 0x148b9ef60>,\n",
       " <unstructured.documents.elements.Table at 0x148b9dee0>,\n",
       " <unstructured.documents.elements.Table at 0x144999df0>,\n",
       " <unstructured.documents.elements.Table at 0x144998d10>,\n",
       " <unstructured.documents.elements.Table at 0x144999220>,\n",
       " <unstructured.documents.elements.Table at 0x144998650>,\n",
       " <unstructured.documents.elements.Table at 0x14487c1d0>,\n",
       " <unstructured.documents.elements.Table at 0x14487c260>,\n",
       " <unstructured.documents.elements.Table at 0x14487d400>,\n",
       " <unstructured.documents.elements.Table at 0x1448fce30>,\n",
       " <unstructured.documents.elements.Table at 0x1448ffc20>,\n",
       " <unstructured.documents.elements.Table at 0x140728c50>,\n",
       " <unstructured.documents.elements.Table at 0x140723140>,\n",
       " <unstructured.documents.elements.Table at 0x1434e8170>,\n",
       " <unstructured.documents.elements.Table at 0x1434e9760>]"
      ]
     },
     "execution_count": 337,
     "metadata": {},
     "output_type": "execute_result"
    }
   ],
   "execution_count": 337
  },
  {
   "metadata": {},
   "cell_type": "code",
   "outputs": [],
   "execution_count": null,
   "source": "",
   "id": "4b620dd229b2a39b"
  }
 ],
 "metadata": {
  "kernelspec": {
   "display_name": "Python 3",
   "language": "python",
   "name": "python3"
  },
  "language_info": {
   "codemirror_mode": {
    "name": "ipython",
    "version": 2
   },
   "file_extension": ".py",
   "mimetype": "text/x-python",
   "name": "python",
   "nbconvert_exporter": "python",
   "pygments_lexer": "ipython2",
   "version": "2.7.6"
  }
 },
 "nbformat": 4,
 "nbformat_minor": 5
}
